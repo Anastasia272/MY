{
 "cells": [
  {
   "cell_type": "markdown",
   "id": "2b1e7fee",
   "metadata": {},
   "source": [
    "# Практическое задание № 3"
   ]
  },
  {
   "cell_type": "markdown",
   "id": "443feab0",
   "metadata": {},
   "source": [
    "**Задание:** Осуществите сбор данных по товарам. \n",
    "\n",
    "- **Шаг 1.** Импортируйте библиотеки. Подключите источник данных http://books.toscrape.com/catalogue/page-1.html\n",
    "\n",
    "- **Шаг 2.** С помощью библиотеки BeautifulSoup найдите HTML теги, в которых находится информация по товарам (Название книги, цена).  \n",
    "    * Алгоритм парсинга используйте html.parser.\n",
    "    * Извлечь данные из 5ти страниц \n",
    "\n",
    "- **Шаг 3.** Выведите результат в DataFarme (пример в таблице): \n",
    "\n",
    "Название книги | цена \n",
    "--|--\n",
    "A Light in the ...\t| £51.77\n",
    "Tipping the Velvet\t| £53.74\n",
    "Soumission\t| £50.10\n",
    "Sharp Objects\t| £47.82\n",
    "\n",
    "- **Шаг 4.** Сохраните DataFarme в файл csv.\n",
    "\n",
    "- **Шаг 5.** Опубликуйте файл ipynb с решением данного задания, прикрепив его в этом задании на платформу Один."
   ]
  },
  {
   "cell_type": "code",
   "execution_count": 1,
   "id": "897b235e",
   "metadata": {},
   "outputs": [
    {
     "name": "stdout",
     "output_type": "stream",
     "text": [
      "1.21.5\n",
      "1.4.2\n",
      "2.27.1\n",
      "2.2.1\n"
     ]
    }
   ],
   "source": [
    "#Ваш код\n",
    "import requests\n",
    "import numpy as np\n",
    "import pandas as pd\n",
    "from bs4 import BeautifulSoup\n",
    "import datetime as dt \n",
    "import csv\n",
    "import re\n",
    "import string\n",
    "\n",
    "print (np.__version__)\n",
    "print (pd.__version__)\n",
    "print (requests.__version__)\n",
    "print (re.__version__)"
   ]
  },
  {
   "cell_type": "markdown",
   "id": "34ec3a49",
   "metadata": {},
   "source": [
    "шаг 2"
   ]
  },
  {
   "cell_type": "code",
   "execution_count": 2,
   "id": "5f328ed2",
   "metadata": {},
   "outputs": [
    {
     "name": "stdout",
     "output_type": "stream",
     "text": [
      "<li class=\"col-xs-6 col-sm-4 col-md-3 col-lg-3\">\n",
      "<article class=\"product_pod\">\n",
      "<div class=\"image_container\">\n",
      "<a href=\"a-light-in-the-attic_1000/index.html\"><img alt=\"A Light in the Attic\" class=\"thumbnail\" src=\"../media/cache/2c/da/2cdad67c44b002e7ead0cc35693c0e8b.jpg\"/></a>\n",
      "</div>\n",
      "<p class=\"star-rating Three\">\n",
      "<i class=\"icon-star\"></i>\n",
      "<i class=\"icon-star\"></i>\n",
      "<i class=\"icon-star\"></i>\n",
      "<i class=\"icon-star\"></i>\n",
      "<i class=\"icon-star\"></i>\n",
      "</p>\n",
      "<h3><a href=\"a-light-in-the-attic_1000/index.html\" title=\"A Light in the Attic\">A Light in the ...</a></h3>\n",
      "<div class=\"product_price\">\n",
      "<p class=\"price_color\">Â£51.77</p>\n",
      "<p class=\"instock availability\">\n",
      "<i class=\"icon-ok\"></i>\n",
      "    \n",
      "        In stock\n",
      "    \n",
      "</p>\n",
      "<form>\n",
      "<button class=\"btn btn-primary btn-block\" data-loading-text=\"Adding...\" type=\"submit\">Add to basket</button>\n",
      "</form>\n",
      "</div>\n",
      "</article>\n",
      "</li>\n"
     ]
    }
   ],
   "source": [
    "url = 'http://books.toscrape.com/catalogue/page-1.html'\n",
    "\n",
    "list_t = {'name': [], 'price': []}\n",
    "r = requests.get(url)\n",
    "bs = BeautifulSoup(r.text, 'html.parser')\n",
    "\n",
    "list_name = bs.find_all('li', {'class':'col-xs-6 col-sm-4 col-md-3 col-lg-3'})\n",
    "print(list_name[0])"
   ]
  },
  {
   "cell_type": "markdown",
   "id": "911cc8a3",
   "metadata": {},
   "source": [
    "Результат из 5 страниц"
   ]
  },
  {
   "cell_type": "code",
   "execution_count": 23,
   "id": "026c7e18",
   "metadata": {},
   "outputs": [
    {
     "name": "stdout",
     "output_type": "stream",
     "text": [
      "0. A Light in the ...\n",
      "1. Tipping the Velvet\n",
      "2. Soumission\n",
      "3. Sharp Objects\n",
      "4. Sapiens: A Brief History ...\n",
      "5. The Requiem Red\n",
      "6. The Dirty Little Secrets ...\n",
      "7. The Coming Woman: A ...\n",
      "8. The Boys in the ...\n",
      "9. The Black Maria\n",
      "10. Starving Hearts (Triangular Trade ...\n",
      "11. Shakespeare's Sonnets\n",
      "12. Set Me Free\n",
      "13. Scott Pilgrim's Precious Little ...\n",
      "14. Rip it Up and ...\n",
      "15. Our Band Could Be ...\n",
      "16. Olio\n",
      "17. Mesaerion: The Best Science ...\n",
      "18. Libertarianism for Beginners\n",
      "19. It's Only the Himalayas\n",
      "0. In Her Wake\n",
      "1. How Music Works\n",
      "2. Foolproof Preserving: A Guide ...\n",
      "3. Chase Me (Paris Nights ...\n",
      "4. Black Dust\n",
      "5. Birdsong: A Story in ...\n",
      "6. America's Cradle of Quarterbacks: ...\n",
      "7. Aladdin and His Wonderful ...\n",
      "8. Worlds Elsewhere: Journeys Around ...\n",
      "9. Wall and Piece\n",
      "10. The Four Agreements: A ...\n",
      "11. The Five Love Languages: ...\n",
      "12. The Elephant Tree\n",
      "13. The Bear and the ...\n",
      "14. Sophie's World\n",
      "15. Penny Maybe\n",
      "16. Maude (1883-1993):She Grew Up ...\n",
      "17. In a Dark, Dark ...\n",
      "18. Behind Closed Doors\n",
      "19. You can't bury them ...\n",
      "0. Slow States of Collapse: ...\n",
      "1. Reasons to Stay Alive\n",
      "2. Private Paris (Private #10)\n",
      "3. #HigherSelfie: Wake Up Your ...\n",
      "4. Without Borders (Wanderlove #1)\n",
      "5. When We Collided\n",
      "6. We Love You, Charlie ...\n",
      "7. Untitled Collection: Sabbath Poems ...\n",
      "8. Unseen City: The Majesty ...\n",
      "9. Unicorn Tracks\n",
      "10. Unbound: How Eight Technologies ...\n",
      "11. Tsubasa: WoRLD CHRoNiCLE 2 ...\n",
      "12. Throwing Rocks at the ...\n",
      "13. This One Summer\n",
      "14. Thirst\n",
      "15. The Torch Is Passed: ...\n",
      "16. The Secret of Dreadwillow ...\n",
      "17. The Pioneer Woman Cooks: ...\n",
      "18. The Past Never Ends\n",
      "19. The Natural History of ...\n"
     ]
    }
   ],
   "source": [
    "url = 'http://books.toscrape.com/catalogue/page-1.html'\n",
    "product = list() #сюда будем записывать товары\n",
    "\n",
    "tek_page = 1\n",
    "pages = 3 # задаем число больше номера первой страницы, для старта цикла\n",
    "\n",
    "while tek_page <= pages:\n",
    "    newUrl = url.replace('1', str(tek_page))\n",
    "    response = requests.get(newUrl)\n",
    "    soup = BeautifulSoup(response.text, 'html.parser')\n",
    "    items = soup.find_all('li', {'class':'col-xs-6 col-sm-4 col-md-3 col-lg-3'})\n",
    "    for n, i in enumerate(items):\n",
    "        name = i.find('h3').get_text().strip()\n",
    "        print(f'{n}. {name}')\n",
    "    tek_page +=1"
   ]
  },
  {
   "cell_type": "code",
   "execution_count": 24,
   "id": "db2a0242",
   "metadata": {
    "scrolled": true
   },
   "outputs": [
    {
     "name": "stdout",
     "output_type": "stream",
     "text": [
      "A Light in the ... стоимость:  £51.77\n",
      "Tipping the Velvet стоимость:  £53.74\n",
      "Soumission стоимость:  £50.10\n",
      "Sharp Objects стоимость:  £47.82\n",
      "Sapiens: A Brief History ... стоимость:  £54.23\n",
      "The Requiem Red стоимость:  £22.65\n",
      "The Dirty Little Secrets ... стоимость:  £33.34\n",
      "The Coming Woman: A ... стоимость:  £17.93\n",
      "The Boys in the ... стоимость:  £22.60\n",
      "The Black Maria стоимость:  £52.15\n",
      "Starving Hearts (Triangular Trade ... стоимость:  £13.99\n",
      "Shakespeare's Sonnets стоимость:  £20.66\n",
      "Set Me Free стоимость:  £17.46\n",
      "Scott Pilgrim's Precious Little ... стоимость:  £52.29\n",
      "Rip it Up and ... стоимость:  £35.02\n",
      "Our Band Could Be ... стоимость:  £57.25\n",
      "Olio стоимость:  £23.88\n",
      "Mesaerion: The Best Science ... стоимость:  £37.59\n",
      "Libertarianism for Beginners стоимость:  £51.33\n",
      "It's Only the Himalayas стоимость:  £45.17\n"
     ]
    }
   ],
   "source": [
    "pred_page = str(tek_page)\n",
    "newUrl = url.replace(str(pred_page), str(tek_page))\n",
    "response = requests.get(url)\n",
    "soup = BeautifulSoup(response.text, 'html.parser')\n",
    "items = soup.find_all('li', {'class':'col-xs-6 col-sm-4 col-md-3 col-lg-3'})\n",
    "for n, i in enumerate(items):\n",
    "    name = i.find('h3').get_text().strip()\n",
    "    price = i.find('p', {'class':'price_color'}).get_text().strip()[1:]\n",
    "    product.append(\n",
    "            {'name' : name,\n",
    "             'price' : price\n",
    "            }) \n",
    "    print(f'{name} стоимость:  {price}')"
   ]
  },
  {
   "cell_type": "markdown",
   "id": "82fe87d4",
   "metadata": {},
   "source": [
    "Шаг 3.Шаг 4."
   ]
  },
  {
   "cell_type": "code",
   "execution_count": 27,
   "id": "068adfa8",
   "metadata": {},
   "outputs": [
    {
     "data": {
      "text/html": [
       "<div>\n",
       "<style scoped>\n",
       "    .dataframe tbody tr th:only-of-type {\n",
       "        vertical-align: middle;\n",
       "    }\n",
       "\n",
       "    .dataframe tbody tr th {\n",
       "        vertical-align: top;\n",
       "    }\n",
       "\n",
       "    .dataframe thead th {\n",
       "        text-align: right;\n",
       "    }\n",
       "</style>\n",
       "<table border=\"1\" class=\"dataframe\">\n",
       "  <thead>\n",
       "    <tr style=\"text-align: right;\">\n",
       "      <th></th>\n",
       "      <th>name</th>\n",
       "      <th>price</th>\n",
       "    </tr>\n",
       "  </thead>\n",
       "  <tbody>\n",
       "    <tr>\n",
       "      <th>0</th>\n",
       "      <td>A Light in the ...</td>\n",
       "      <td>£51.77</td>\n",
       "    </tr>\n",
       "    <tr>\n",
       "      <th>1</th>\n",
       "      <td>Tipping the Velvet</td>\n",
       "      <td>£53.74</td>\n",
       "    </tr>\n",
       "    <tr>\n",
       "      <th>2</th>\n",
       "      <td>Soumission</td>\n",
       "      <td>£50.10</td>\n",
       "    </tr>\n",
       "    <tr>\n",
       "      <th>3</th>\n",
       "      <td>Sharp Objects</td>\n",
       "      <td>£47.82</td>\n",
       "    </tr>\n",
       "    <tr>\n",
       "      <th>4</th>\n",
       "      <td>Sapiens: A Brief History ...</td>\n",
       "      <td>£54.23</td>\n",
       "    </tr>\n",
       "    <tr>\n",
       "      <th>5</th>\n",
       "      <td>The Requiem Red</td>\n",
       "      <td>£22.65</td>\n",
       "    </tr>\n",
       "    <tr>\n",
       "      <th>6</th>\n",
       "      <td>The Dirty Little Secrets ...</td>\n",
       "      <td>£33.34</td>\n",
       "    </tr>\n",
       "    <tr>\n",
       "      <th>7</th>\n",
       "      <td>The Coming Woman: A ...</td>\n",
       "      <td>£17.93</td>\n",
       "    </tr>\n",
       "    <tr>\n",
       "      <th>8</th>\n",
       "      <td>The Boys in the ...</td>\n",
       "      <td>£22.60</td>\n",
       "    </tr>\n",
       "    <tr>\n",
       "      <th>9</th>\n",
       "      <td>The Black Maria</td>\n",
       "      <td>£52.15</td>\n",
       "    </tr>\n",
       "  </tbody>\n",
       "</table>\n",
       "</div>"
      ],
      "text/plain": [
       "                           name   price\n",
       "0            A Light in the ...  £51.77\n",
       "1            Tipping the Velvet  £53.74\n",
       "2                    Soumission  £50.10\n",
       "3                 Sharp Objects  £47.82\n",
       "4  Sapiens: A Brief History ...  £54.23\n",
       "5               The Requiem Red  £22.65\n",
       "6  The Dirty Little Secrets ...  £33.34\n",
       "7       The Coming Woman: A ...  £17.93\n",
       "8           The Boys in the ...  £22.60\n",
       "9               The Black Maria  £52.15"
      ]
     },
     "execution_count": 27,
     "metadata": {},
     "output_type": "execute_result"
    }
   ],
   "source": [
    "df = pd.DataFrame(product)\n",
    "df.to_csv('product1.csv')\n",
    "df.head(10)"
   ]
  }
 ],
 "metadata": {
  "kernelspec": {
   "display_name": "Python 3 (ipykernel)",
   "language": "python",
   "name": "python3"
  },
  "language_info": {
   "codemirror_mode": {
    "name": "ipython",
    "version": 3
   },
   "file_extension": ".py",
   "mimetype": "text/x-python",
   "name": "python",
   "nbconvert_exporter": "python",
   "pygments_lexer": "ipython3",
   "version": "3.9.12"
  }
 },
 "nbformat": 4,
 "nbformat_minor": 5
}
